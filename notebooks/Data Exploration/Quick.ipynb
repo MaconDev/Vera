{
 "cells": [
  {
   "cell_type": "code",
   "execution_count": 1,
   "metadata": {},
   "outputs": [],
   "source": [
    "import pandas as pd "
   ]
  },
  {
   "cell_type": "code",
   "execution_count": 11,
   "metadata": {},
   "outputs": [
    {
     "data": {
      "text/plain": [
       "3144                       PURSE SNATCH - IP/JO - ROBBERY\n",
       "2818                          -OUT OF CAR/NO REASON GIVEN\n",
       "419                        107B_Assist Agncy Non-Urgt Wpn\n",
       "2024                                     TRAFFIC INCIDENT\n",
       "2972                             INFORMATIONAL BROADCASTS\n",
       "2411                                 SIMPLE BURGLARY DOME\n",
       "2346                                 THEFT BY EMBEZZLEMEN\n",
       "2051                                 MUNICIPAL ATTACHMENT\n",
       "628                         126O_Robbery/Carjack Info Wpn\n",
       "1783                                     INVESTIGATE AUTO\n",
       "871          INJURED PERSON - FIREARM INJURY (NO OFFENSE)\n",
       "1335              CRIM MISCHIEF > OR EQUAL 150K<150K<300K\n",
       "1294               WARRANT DALLAS PD (ROBBERY - BUSINESS)\n",
       "1242    TRAF VIO - RACING ON HIGHWAY CAUSING SERIOUS B...\n",
       "2336                                   PARADE ITEM NUMBER\n",
       "3101           TRAFFIC PURSUIT - OFFICER INITIATED ONVIEW\n",
       "80                                           Boot Removal\n",
       "839     THEFT OF PROP (AUTO ACC) > OR EQUAL 100<100<75...\n",
       "1473     POSS CONT SUB PEN GRP 2-A > 2 OZ < OR EQUAL 4 OZ\n",
       "1650               INSURANCE FRAUD > OR EQUAL 100<100<750\n",
       "Name: Field 1, dtype: object"
      ]
     },
     "execution_count": 11,
     "metadata": {},
     "output_type": "execute_result"
    }
   ],
   "source": [
    "pd.read_excel('/home/vera0519/vera_911/data/interim/CallTypes_TS.xlsx',sheet_name='CallTypes')['Field 1'].sample(20)"
   ]
  },
  {
   "cell_type": "code",
   "execution_count": 12,
   "metadata": {},
   "outputs": [],
   "source": [
    "a = _"
   ]
  },
  {
   "cell_type": "code",
   "execution_count": 17,
   "metadata": {},
   "outputs": [
    {
     "name": "stdout",
     "output_type": "stream",
     "text": [
      "PURSE SNATCH - IP/JO - ROBBERY\n",
      "-OUT OF CAR/NO REASON GIVEN\n",
      "107B_Assist Agncy Non-Urgt Wpn\n",
      "TRAFFIC INCIDENT\n",
      "INFORMATIONAL BROADCASTS\n",
      "SIMPLE BURGLARY DOME\n",
      "THEFT BY EMBEZZLEMEN\n",
      "MUNICIPAL ATTACHMENT\n",
      "126O_Robbery/Carjack Info Wpn\n",
      "INVESTIGATE AUTO\n",
      "INJURED PERSON - FIREARM INJURY (NO OFFENSE)\n",
      "CRIM MISCHIEF > OR EQUAL 150K<150K<300K\n",
      "WARRANT DALLAS PD (ROBBERY - BUSINESS)\n",
      "TRAF VIO - RACING ON HIGHWAY CAUSING SERIOUS B...\n",
      "PARADE ITEM NUMBER\n",
      "TRAFFIC PURSUIT - OFFICER INITIATED ONVIEW\n",
      "Boot Removal\n",
      "THEFT OF PROP (AUTO ACC) > OR EQUAL 100<100<750...\n",
      "POSS CONT SUB PEN GRP 2-A > 2 OZ < OR EQUAL 4 OZ\n",
      "INSURANCE FRAUD > OR EQUAL 100<100<750\n"
     ]
    }
   ],
   "source": [
    "for v in a.values:\n",
    "    print(v)"
   ]
  },
  {
   "cell_type": "code",
   "execution_count": null,
   "metadata": {},
   "outputs": [],
   "source": []
  }
 ],
 "metadata": {
  "kernelspec": {
   "display_name": "Python 3",
   "language": "python",
   "name": "python3"
  },
  "language_info": {
   "codemirror_mode": {
    "name": "ipython",
    "version": 3
   },
   "file_extension": ".py",
   "mimetype": "text/x-python",
   "name": "python",
   "nbconvert_exporter": "python",
   "pygments_lexer": "ipython3",
   "version": "3.5.4"
  }
 },
 "nbformat": 4,
 "nbformat_minor": 2
}
